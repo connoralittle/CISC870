{
 "cells": [
  {
   "cell_type": "code",
   "execution_count": 1,
   "metadata": {},
   "outputs": [],
   "source": [
    "import numpy as np\n",
    "from data import get_data\n",
    "from model import *\n",
    "from model_constraints import *"
   ]
  },
  {
   "cell_type": "markdown",
   "metadata": {},
   "source": [
    "Get Data"
   ]
  },
  {
   "cell_type": "code",
   "execution_count": 2,
   "metadata": {},
   "outputs": [],
   "source": [
    "instance = 6\n",
    "np.random.seed(instance)\n",
    "data = get_data(f\"output/instance{instance}/instance{instance}.txt\")"
   ]
  },
  {
   "cell_type": "markdown",
   "metadata": {},
   "source": [
    "Create the model"
   ]
  },
  {
   "cell_type": "code",
   "execution_count": 3,
   "metadata": {},
   "outputs": [],
   "source": [
    "model = create_model()"
   ]
  },
  {
   "cell_type": "markdown",
   "metadata": {},
   "source": [
    "Create the Decision Variables"
   ]
  },
  {
   "cell_type": "code",
   "execution_count": 4,
   "metadata": {},
   "outputs": [],
   "source": [
    "employee_dv = create_employee_dv(model, \"assigned\", data[\"STAFF\"], data[\"DAYS\"], data[\"SHIFTS\"])\n",
    "above_dv = create_above_coverage_dv(model, len(data[\"STAFF\"]), \"above\", data[\"DAYS\"], data[\"SHIFTS\"], data[\"SCENARIOS\"])\n",
    "below_dv = create_below_coverage_dv(model, len(data[\"STAFF\"]), \"below\", data[\"DAYS\"], data[\"SHIFTS\"], data[\"SCENARIOS\"])\n",
    "weekend_dv = create_weekend_dv(model, \"weekend\", data[\"STAFF\"], data[\"WEEKENDS\"])\n",
    "add_dv = create_add_dv(model, len(data[\"STAFF\"]) // 2, \"above\", data[\"DAYS\"], data[\"SHIFTS\"], data[\"SCENARIOS\"])\n",
    "subtract_dv = create_subtract_dv(model, len(data[\"STAFF\"]) // 2, \"below\", data[\"DAYS\"], data[\"SHIFTS\"], data[\"SCENARIOS\"])"
   ]
  },
  {
   "cell_type": "markdown",
   "metadata": {},
   "source": [
    "Apply Constraints"
   ]
  },
  {
   "cell_type": "code",
   "execution_count": 5,
   "metadata": {},
   "outputs": [],
   "source": [
    "one_shift_per_day(model, data, employee_dv)\n",
    "shift_rotation(model, data, employee_dv)\n",
    "max_shifts(model, data, employee_dv)\n",
    "\n",
    "max_work_time(model, data, employee_dv)\n",
    "min_work_time(model, data, employee_dv)\n",
    "\n",
    "max_consecutive_shifts(model, data, employee_dv)\n",
    "min_consecutive_shifts(model, data, employee_dv)\n",
    "min_consecutive_shifts_off(model, data, employee_dv)\n",
    "\n",
    "max_weekends(model, data, employee_dv, weekend_dv)\n",
    "\n",
    "days_off(model, data, employee_dv)\n",
    "\n",
    "coverage2(model, data, employee_dv, above_dv, below_dv, add_dv, subtract_dv, data[\"SCENARIOS\"])\n",
    "\n",
    "add_staff(model, data, add_dv, below_dv, data[\"SCENARIOS\"])\n",
    "remove_staff(model, data, subtract_dv, above_dv, data[\"SCENARIOS\"])"
   ]
  },
  {
   "cell_type": "markdown",
   "metadata": {},
   "source": [
    "SOLVE"
   ]
  },
  {
   "cell_type": "code",
   "execution_count": 6,
   "metadata": {},
   "outputs": [
    {
     "name": "stdout",
     "output_type": "stream",
     "text": [
      "FEASIBLE\n",
      "\n",
      "time elapsed: 1199.4891057014465\n"
     ]
    }
   ],
   "source": [
    "# All constraints together takes 1.5 hours to find a feasible solution\n",
    "import time\n",
    "\n",
    "start = time.time()\n",
    "\n",
    "model.Minimize(\n",
    "        #off requests not applied\n",
    "        sum(data[\"SECTION_SHIFT_OFF_REQUESTS\"].get((s, d - 1, t), 0) * employee_dv[(s, d, t)]\n",
    "            for s in data[\"STAFF\"]\n",
    "            for d in data[\"DAYS\"]\n",
    "            for t in data[\"SHIFTS\"])\n",
    "        +\n",
    "        #on requests not applied\n",
    "        sum(data[\"SECTION_SHIFT_ON_REQUESTS\"].get((s, d - 1, t), 0) * (1 - employee_dv[(s, d, t)])\n",
    "            for s in data[\"STAFF\"]\n",
    "            for d in data[\"DAYS\"]\n",
    "            for t in data[\"SHIFTS\"])\n",
    "        +\n",
    "        sum([\n",
    "        #overstaffing penalty\n",
    "        (1 / len(data[\"SCENARIOS\"])) * sum(above_dv[d, t, k] * [item[4] for item in data[f\"SECTION_COVER{k}\"] if item[0] == d - 1 and item[1] == t][0]\n",
    "            for d in data[\"DAYS\"]\n",
    "            for t in data[\"SHIFTS\"]\n",
    "            for k in data[\"SCENARIOS\"])\n",
    "        + \n",
    "        #understaffing penalty\n",
    "        (1 / len(data[\"SCENARIOS\"])) * sum(below_dv[d, t, k] * [item[3] for item in data[f\"SECTION_COVER{k}\"] if item[0] == d - 1 and item[1] == t][0]\n",
    "            for d in data[\"DAYS\"]\n",
    "            for t in data[\"SHIFTS\"]\n",
    "            for k in data[\"SCENARIOS\"])\n",
    "        + \n",
    "        #readd\n",
    "        (1 / len(data[\"SCENARIOS\"])) * sum(add_dv[d, t, k] * ([item[3] for item in data[f\"SECTION_COVER{k}\"] if item[0] == d - 1 and item[1] == t][0] * 0.75)\n",
    "            for d in data[\"DAYS\"]\n",
    "            for t in data[\"SHIFTS\"]\n",
    "            for k in data[\"SCENARIOS\"])\n",
    "        + \n",
    "        #remove\n",
    "        (1 / len(data[\"SCENARIOS\"])) * sum(subtract_dv[d, t, k] * ([item[4] for item in data[f\"SECTION_COVER{k}\"] if item[0] == d - 1 and item[1] == t][0] * 0.75)\n",
    "            for d in data[\"DAYS\"]\n",
    "            for t in data[\"SHIFTS\"]\n",
    "            for k in data[\"SCENARIOS\"])\n",
    "        ]\n",
    "        )\n",
    ")\n",
    "\n",
    "solver = create_solver(1200)\n",
    "status = solver.Solve(model)\n",
    "\n",
    "print(solver.StatusName(status))\n",
    "import collections\n",
    "results = collections.defaultdict(list)\n",
    "for d in data[\"DAYS\"]:\n",
    "    results[d] = []\n",
    "\n",
    "with open(f\"output/instance{instance}/instance{instance}s_fa.txt\", 'w') as file:\n",
    "    file.write(f\"{status}\\n\")\n",
    "    file.write('Maximum of objective function: %i' % solver.ObjectiveValue() + '\\n\\n')\n",
    "    print()\n",
    "    for d in data[\"DAYS\"]:\n",
    "        file.write(f'Day: {d}\\n')\n",
    "        for s in data[\"SHIFTS\"]:\n",
    "            for m in data[\"STAFF\"]:\n",
    "                if solver.Value(employee_dv[(m, d, s)]) == 1:\n",
    "                    results[d].append(m)\n",
    "                    file.write(f\"{m} works shift {s}\\n\")\n",
    "        file.write(\"\\n\")\n",
    "\n",
    "        end = time.time()\n",
    "    print(f\"time elapsed: {end - start}\")"
   ]
  }
 ],
 "metadata": {
  "kernelspec": {
   "display_name": "base",
   "language": "python",
   "name": "python3"
  },
  "language_info": {
   "codemirror_mode": {
    "name": "ipython",
    "version": 3
   },
   "file_extension": ".py",
   "mimetype": "text/x-python",
   "name": "python",
   "nbconvert_exporter": "python",
   "pygments_lexer": "ipython3",
   "version": "3.10.9"
  }
 },
 "nbformat": 4,
 "nbformat_minor": 2
}
