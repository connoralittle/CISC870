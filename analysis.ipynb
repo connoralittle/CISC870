{
 "cells": [
  {
   "cell_type": "code",
   "execution_count": 1,
   "metadata": {},
   "outputs": [],
   "source": [
    "import numpy as np\n",
    "from data import get_data\n",
    "from model import *\n",
    "from model_constraints import *"
   ]
  },
  {
   "cell_type": "code",
   "execution_count": 2,
   "metadata": {},
   "outputs": [],
   "source": [
    "def get_variables(data):\n",
    "    employee_dv =  {(m, d, t): 0\n",
    "                for m in data[\"STAFF\"]\n",
    "                for d in data[\"DAYS\"]\n",
    "                for t in data[\"SHIFTS\"]}\n",
    "\n",
    "    above_dv = {(d, t, k): 0\n",
    "                for d in data[\"DAYS\"]\n",
    "                for t in data[\"SHIFTS\"]\n",
    "                for k in data[\"SCENARIOS\"]}\n",
    "\n",
    "    below_dv = {(d, t, k): 0\n",
    "                for d in data[\"DAYS\"]\n",
    "                for t in data[\"SHIFTS\"]\n",
    "                for k in data[\"SCENARIOS\"]}\n",
    "    return employee_dv, above_dv, below_dv"
   ]
  },
  {
   "cell_type": "code",
   "execution_count": 3,
   "metadata": {},
   "outputs": [],
   "source": [
    "def get_results(data, file, employee_dv, above_dv, below_dv):\n",
    "    with open(file) as soltext:\n",
    "        temp = [0]  * len(data[\"DAYS\"])\n",
    "        count = []\n",
    "        for _ in range(len(data[\"SHIFTS\"])):\n",
    "            count.append(temp.copy())\n",
    "        soltext.readline()\n",
    "        soltext.readline()\n",
    "        soltext.readline()\n",
    "        for d in data[\"DAYS\"]:\n",
    "            assert(soltext.readline() == f\"Day: {d}\\n\")\n",
    "\n",
    "            while True:\n",
    "                line = soltext.readline()\n",
    "                if line == '\\n':\n",
    "                    break\n",
    "                else:\n",
    "                    m, t = line.strip().split(\" works shift \")\n",
    "                    employee_dv[m,d,t] = 1\n",
    "                    count[data[\"SHIFTS\"].index(t)][d - 1] += 1\n",
    "\n",
    "    for d in data[\"DAYS\"]:\n",
    "        for t in data[\"SHIFTS\"]:\n",
    "            for k in data[\"SCENARIOS\"]:\n",
    "                requirement = [item for item in data[f\"SECTION_COVER{k}\"] if item[0] == d - 1 and item[1] == t][0]\n",
    "                coverage_req = requirement[2]\n",
    "                if count[data[\"SHIFTS\"].index(t)][d - 1] > coverage_req:\n",
    "                    above_dv[d, t, k] = count[data[\"SHIFTS\"].index(t)][d - 1] - coverage_req\n",
    "                elif count[data[\"SHIFTS\"].index(t)][d - 1] < coverage_req:\n",
    "                    below_dv[d, t, k] = coverage_req - count[data[\"SHIFTS\"].index(t)][d - 1]\n",
    "\n",
    "    return employee_dv, above_dv, below_dv"
   ]
  },
  {
   "cell_type": "code",
   "execution_count": 4,
   "metadata": {},
   "outputs": [],
   "source": [
    "def get_cost(data, employee_dv, above_dv, below_dv, scenarios): \n",
    "    return sum(data[\"SECTION_SHIFT_OFF_REQUESTS\"].get((s, d - 1, t), 0) * employee_dv[(s, d, t)]\n",
    "            for s in data[\"STAFF\"]\n",
    "            for d in data[\"DAYS\"]\n",
    "            for t in data[\"SHIFTS\"]) \\\n",
    "        +\\\n",
    "        sum(data[\"SECTION_SHIFT_ON_REQUESTS\"].get((s, d - 1, t), 0) * (1 - employee_dv[(s, d, t)])\n",
    "            for s in data[\"STAFF\"]\n",
    "            for d in data[\"DAYS\"]\n",
    "            for t in data[\"SHIFTS\"])\\\n",
    "        +\\\n",
    "        sum([\n",
    "        #overstaffing penalty\n",
    "        (1 / len(scenarios)) * sum(above_dv[d, t, k] * [item[4] for item in data[f\"SECTION_COVER{k}\"] if item[0] == d - 1 and item[1] == t][0]\n",
    "            for d in data[\"DAYS\"]\n",
    "            for t in data[\"SHIFTS\"]\n",
    "            for k in scenarios)\\\n",
    "        + \\\n",
    "        #understaffing penalty\n",
    "        (1 / len(scenarios)) * sum(below_dv[d, t, k] * [item[3] for item in data[f\"SECTION_COVER{k}\"] if item[0] == d - 1 and item[1] == t][0]\n",
    "            for d in data[\"DAYS\"]\n",
    "            for t in data[\"SHIFTS\"]\n",
    "            for k in scenarios)\n",
    "        ]\n",
    "        )"
   ]
  },
  {
   "cell_type": "code",
   "execution_count": 5,
   "metadata": {},
   "outputs": [],
   "source": [
    "def get_average_solution_cost(data, file, scenarios):\n",
    "    employee_dv, above_dv, below_dv = get_variables(data)\n",
    "    employee_dv, above_dv, below_dv = get_results(data, file, employee_dv, above_dv, below_dv)\n",
    "    cost = 0\n",
    "    for scenario in scenarios:\n",
    "        cost += get_cost(data, employee_dv, above_dv, below_dv, scenario)\n",
    "    print(f\"Average solution cost {cost / len(scenarios)}\")"
   ]
  },
  {
   "cell_type": "code",
   "execution_count": 14,
   "metadata": {},
   "outputs": [],
   "source": [
    "scenarios1 = [[0],[1],[2],[3],[4],[5],[6],[7],[8],[9],]\n",
    "scenarios2 = [[2], [7], [6], [1], ]\n",
    "scenarios3 = [[4], [3], [8], [9]]\n",
    "instances = [0,1,2,3,4,5,6,7,8,9,'ea']\n",
    "instances2 = [0,1,2,3,4,5,6,7,8,9]"
   ]
  },
  {
   "cell_type": "code",
   "execution_count": 15,
   "metadata": {},
   "outputs": [
    {
     "name": "stdout",
     "output_type": "stream",
     "text": [
      "Average solution cost 1327.871847222534\n",
      "Average solution cost 1357.9592059194538\n",
      "Average solution cost 1555.3427444362565\n",
      "Average solution cost 1590.5914498498055\n",
      "Average solution cost 1960.3116592141719\n",
      "Average solution cost 1372.5830273706827\n",
      "Average solution cost 1321.8839984053857\n",
      "Average solution cost 1401.2734078681601\n",
      "Average solution cost 1710.926646217737\n",
      "Average solution cost 2095.6688554346465\n",
      "Average solution cost 1179.393994331554\n",
      "\n",
      "Average solution cost 2683.934802260071\n",
      "Average solution cost 2500.2203802875015\n",
      "Average solution cost 2623.1207223843403\n",
      "Average solution cost 3347.30265533715\n",
      "Average solution cost 3686.3484973550094\n",
      "Average solution cost 2795.5917340520264\n",
      "Average solution cost 2422.1828471058047\n",
      "Average solution cost 2504.682210673938\n",
      "Average solution cost 3555.5582877555203\n",
      "Average solution cost 3827.0962624255726\n",
      "Average solution cost 2379.9574886667115\n",
      "\n",
      "Average solution cost 360.2029673955879\n",
      "Average solution cost 484.71899967494244\n",
      "Average solution cost 732.9793754882741\n",
      "Average solution cost 79.08570598033052\n",
      "Average solution cost 409.11441957092364\n",
      "Average solution cost 360.0923270645691\n",
      "Average solution cost 393.9868834912679\n",
      "Average solution cost 416.5099694877529\n",
      "Average solution cost 79.08600907978273\n",
      "Average solution cost 516.2294302742799\n",
      "Average solution cost 218.134025417965\n",
      "\n"
     ]
    }
   ],
   "source": [
    "index = 1\n",
    "np.random.seed(index)\n",
    "data = get_data(f\"output/instance{index}/instance{index}.txt\")\n",
    "\n",
    "for instance in instances:\n",
    "    get_average_solution_cost(data, f\"output/instance1/instance1s_{instance}.txt\", scenarios1)\n",
    "print()\n",
    "\n",
    "\n",
    "for instance in instances:\n",
    "    get_average_solution_cost(data, f\"output/instance1/instance1s_{instance}.txt\", scenarios2)\n",
    "print()\n",
    "\n",
    "\n",
    "for instance in instances:\n",
    "    get_average_solution_cost(data, f\"output/instance1/instance1s_{instance}.txt\", scenarios3)\n",
    "print()\n"
   ]
  },
  {
   "cell_type": "code",
   "execution_count": 8,
   "metadata": {},
   "outputs": [
    {
     "name": "stdout",
     "output_type": "stream",
     "text": [
      "Average solution cost 2379.8016254103586\n",
      "Average solution cost 2784.971639740859\n",
      "Average solution cost 3208.5679762380155\n",
      "Average solution cost 3051.0606188678794\n",
      "Average solution cost 3665.0464731654383\n",
      "Average solution cost 2401.2145340904217\n",
      "Average solution cost 2970.143096290537\n",
      "Average solution cost 3661.910017127818\n",
      "Average solution cost 3187.2955441488043\n",
      "Average solution cost 4134.985816435423\n",
      "Average solution cost 2183.0159192091387\n",
      "\n"
     ]
    }
   ],
   "source": [
    "index = 2\n",
    "np.random.seed(index)\n",
    "data = get_data(f\"output/instance{index}/instance{index}.txt\")\n",
    "\n",
    "for instance in instances:\n",
    "    get_average_solution_cost(data, f\"output/instance2/instance2s_{instance}.txt\", scenarios1)\n",
    "print()"
   ]
  },
  {
   "cell_type": "code",
   "execution_count": 9,
   "metadata": {},
   "outputs": [
    {
     "name": "stdout",
     "output_type": "stream",
     "text": [
      "Average solution cost 3230.68318556206\n",
      "Average solution cost 3670.3535852846435\n",
      "Average solution cost 3687.66647582141\n",
      "Average solution cost 4620.475419767899\n",
      "Average solution cost 5009.450362364334\n",
      "Average solution cost 3333.0006287679694\n",
      "Average solution cost 3963.211226161344\n",
      "Average solution cost 5211.978087929407\n",
      "Average solution cost 4857.979565537057\n",
      "Average solution cost 6462.576798252653\n",
      "Average solution cost 2984.681423245165\n",
      "\n"
     ]
    }
   ],
   "source": [
    "index = 3\n",
    "np.random.seed(index)\n",
    "data = get_data(f\"output/instance{index}/instance{index}.txt\")\n",
    "\n",
    "\n",
    "for instance in instances:\n",
    "    get_average_solution_cost(data, f\"output/instance3/instance3s_{instance}.txt\", scenarios1)\n",
    "print()"
   ]
  },
  {
   "cell_type": "code",
   "execution_count": 10,
   "metadata": {},
   "outputs": [
    {
     "name": "stdout",
     "output_type": "stream",
     "text": [
      "Average solution cost 4711.620289283766\n",
      "Average solution cost 4624.460521533454\n",
      "Average solution cost 5504.05323767518\n",
      "Average solution cost 5321.963617743726\n",
      "Average solution cost 5710.439745466977\n",
      "Average solution cost 4926.265519431688\n",
      "Average solution cost 4678.354615980692\n",
      "Average solution cost 6043.465245737725\n",
      "Average solution cost 5827.202031338783\n",
      "Average solution cost 7308.706903722135\n",
      "Average solution cost 4184.423321620143\n",
      "\n"
     ]
    }
   ],
   "source": [
    "index = 4\n",
    "np.random.seed(index)\n",
    "data = get_data(f\"output/instance{index}/instance{index}.txt\")\n",
    "\n",
    "for instance in instances:\n",
    "    get_average_solution_cost(data, f\"output/instance4/instance4s_{instance}.txt\", scenarios1)\n",
    "print()"
   ]
  },
  {
   "cell_type": "code",
   "execution_count": 11,
   "metadata": {},
   "outputs": [
    {
     "name": "stdout",
     "output_type": "stream",
     "text": [
      "Average solution cost 4129.5588451354215\n",
      "Average solution cost 4152.890898870181\n",
      "Average solution cost 4665.80544825657\n",
      "Average solution cost 5506.913918132299\n",
      "Average solution cost 6502.1540866320665\n",
      "Average solution cost 4382.52812610663\n"
     ]
    },
    {
     "name": "stdout",
     "output_type": "stream",
     "text": [
      "Average solution cost 5064.503168203201\n",
      "Average solution cost 6263.992953225523\n",
      "Average solution cost 5835.123857360582\n",
      "Average solution cost 7696.98065539158\n",
      "Average solution cost 3718.2867782604567\n",
      "\n"
     ]
    }
   ],
   "source": [
    "index = 5\n",
    "np.random.seed(index)\n",
    "data = get_data(f\"output/instance{index}/instance{index}.txt\")\n",
    "\n",
    "for instance in instances:\n",
    "    get_average_solution_cost(data, f\"output/instance5/instance5s_{instance}.txt\", scenarios1)\n",
    "print()"
   ]
  },
  {
   "cell_type": "code",
   "execution_count": 16,
   "metadata": {},
   "outputs": [
    {
     "name": "stdout",
     "output_type": "stream",
     "text": [
      "Average solution cost 6796.579261689457\n",
      "Average solution cost 6829.756147891108\n",
      "Average solution cost 7981.789849639562\n",
      "Average solution cost 8139.8127828638635\n",
      "Average solution cost 9247.335386588516\n",
      "Average solution cost 6626.055284810672\n",
      "Average solution cost 7582.469598947576\n",
      "Average solution cost 9050.898398246405\n",
      "Average solution cost 8499.153709799637\n",
      "Average solution cost 11671.169338006042\n",
      "Average solution cost 5955.274823297788\n",
      "\n"
     ]
    }
   ],
   "source": [
    "index = 6\n",
    "np.random.seed(index)\n",
    "data = get_data(f\"output/instance{index}/instance{index}.txt\")\n",
    "\n",
    "for instance in instances:\n",
    "    get_average_solution_cost(data, f\"output/instance6/instance6s_{instance}.txt\", scenarios1)\n",
    "print()"
   ]
  },
  {
   "cell_type": "markdown",
   "metadata": {},
   "source": [
    "FA"
   ]
  },
  {
   "cell_type": "code",
   "execution_count": 20,
   "metadata": {},
   "outputs": [
    {
     "name": "stdout",
     "output_type": "stream",
     "text": [
      "2257.5\n",
      "1283.4\n",
      "1478.1\n",
      "1509.6\n",
      "1862.7\n",
      "1297.2\n",
      "1262.4\n",
      "1336.0\n",
      "1627.9\n",
      "2001.2\n",
      "1119.1\n"
     ]
    }
   ],
   "source": [
    "for index in instances2:\n",
    "    cost = 0\n",
    "    for instance in instances2:\n",
    "        with open(f\"output/instance1/recourse/instance1_{index}/instance1s_{instance}fa.txt\") as file:\n",
    "            file.readline()\n",
    "            cost += int(file.readline().strip().split(\"Maximum of objective function: \")[1])\n",
    "    print(cost / 10)\n",
    "\n",
    "\n",
    "cost = 0\n",
    "for instance in instances2:\n",
    "    with open(f\"output/instance1/recourse/instance1_fa/instance1s_{instance}fa.txt\") as file:\n",
    "        file.readline()\n",
    "        cost += int(file.readline().strip().split(\"Maximum of objective function: \")[1])\n",
    "print(cost / 10)"
   ]
  },
  {
   "cell_type": "code",
   "execution_count": 21,
   "metadata": {},
   "outputs": [
    {
     "name": "stdout",
     "output_type": "stream",
     "text": [
      "2306.7\n",
      "2695.7\n",
      "3111.9\n",
      "2950.5\n",
      "3550.0\n",
      "2311.3\n",
      "2899.5\n",
      "3550.1\n",
      "3080.3\n",
      "3996.9\n",
      "2127.3\n"
     ]
    }
   ],
   "source": [
    "for index in instances2:\n",
    "    cost = 0\n",
    "    for instance in instances2:\n",
    "        with open(f\"output/instance2/recourse/instance2_{index}/instance2s_{instance}fa.txt\") as file:\n",
    "            file.readline()\n",
    "            cost += int(file.readline().strip().split(\"Maximum of objective function: \")[1])\n",
    "    print(cost / 10)\n",
    "\n",
    "\n",
    "cost = 0\n",
    "for instance in instances2:\n",
    "    with open(f\"output/instance2/recourse/instance2_fa/instance2s_{instance}fa.txt\") as file:\n",
    "        file.readline()\n",
    "        cost += int(file.readline().strip().split(\"Maximum of objective function: \")[1])\n",
    "print(cost / 10)"
   ]
  },
  {
   "cell_type": "code",
   "execution_count": 22,
   "metadata": {},
   "outputs": [
    {
     "name": "stdout",
     "output_type": "stream",
     "text": [
      "3098.1\n",
      "3529.2\n",
      "3570.4\n",
      "4433.9\n",
      "4817.1\n",
      "3191.4\n",
      "3872.6\n",
      "5058.4\n",
      "4664.0\n",
      "6215.1\n",
      "2863.1\n"
     ]
    }
   ],
   "source": [
    "for index in instances2:\n",
    "    cost = 0\n",
    "    for instance in instances2:\n",
    "        with open(f\"output/instance3/recourse/instance3_{index}/instance3s_{instance}fa.txt\") as file:\n",
    "            file.readline()\n",
    "            cost += int(file.readline().strip().split(\"Maximum of objective function: \")[1])\n",
    "    print(cost / 10)\n",
    "\n",
    "\n",
    "cost = 0\n",
    "for instance in instances2:\n",
    "    with open(f\"output/instance3/recourse/instance3_fa/instance3s_{instance}fa.txt\") as file:\n",
    "        file.readline()\n",
    "        cost += int(file.readline().strip().split(\"Maximum of objective function: \")[1])\n",
    "print(cost / 10)"
   ]
  },
  {
   "cell_type": "code",
   "execution_count": null,
   "metadata": {},
   "outputs": [
    {
     "name": "stdout",
     "output_type": "stream",
     "text": [
      "4476.2\n",
      "4379.8\n",
      "5222.3\n",
      "5078.5\n",
      "5460.2\n",
      "4686.7\n",
      "4493.2\n",
      "5816.8\n",
      "5555.3\n",
      "6983.9\n",
      "3958.8\n"
     ]
    }
   ],
   "source": [
    "for index in instances2:\n",
    "    cost = 0\n",
    "    for instance in instances2:\n",
    "        with open(f\"output/instance4/recourse/instance4_{index}/instance4s_{instance}fa.txt\") as file:\n",
    "            file.readline()\n",
    "            cost += int(file.readline().strip().split(\"Maximum of objective function: \")[1])\n",
    "    print(cost / 10)\n",
    "\n",
    "\n",
    "cost = 0\n",
    "for instance in instances2:\n",
    "    with open(f\"output/instance4/recourse/instance4_fa/instance4s_{instance}fa.txt\") as file:\n",
    "        file.readline()\n",
    "        cost += int(file.readline().strip().split(\"Maximum of objective function: \")[1])\n",
    "print(cost / 10)"
   ]
  },
  {
   "cell_type": "code",
   "execution_count": 23,
   "metadata": {},
   "outputs": [
    {
     "name": "stdout",
     "output_type": "stream",
     "text": [
      "3982.8\n",
      "4018.9\n",
      "4493.4\n",
      "5303.2\n",
      "6276.6\n",
      "4207.5\n",
      "4914.0\n",
      "6108.2\n",
      "5621.6\n",
      "7394.7\n",
      "3630.1\n"
     ]
    }
   ],
   "source": [
    "for index in instances2:\n",
    "    cost = 0\n",
    "    for instance in instances2:\n",
    "        with open(f\"output/instance5/recourse/instance5_{index}/instance5s_{instance}fa.txt\") as file:\n",
    "            file.readline()\n",
    "            cost += int(file.readline().strip().split(\"Maximum of objective function: \")[1])\n",
    "    print(cost / 10)\n",
    "\n",
    "\n",
    "cost = 0\n",
    "for instance in instances2:\n",
    "    with open(f\"output/instance5/recourse/instance5_fa/instance5s_{instance}fa.txt\") as file:\n",
    "        file.readline()\n",
    "        cost += int(file.readline().strip().split(\"Maximum of objective function: \")[1])\n",
    "print(cost / 10)"
   ]
  }
 ],
 "metadata": {
  "kernelspec": {
   "display_name": "base",
   "language": "python",
   "name": "python3"
  },
  "language_info": {
   "codemirror_mode": {
    "name": "ipython",
    "version": 3
   },
   "file_extension": ".py",
   "mimetype": "text/x-python",
   "name": "python",
   "nbconvert_exporter": "python",
   "pygments_lexer": "ipython3",
   "version": "3.10.9"
  }
 },
 "nbformat": 4,
 "nbformat_minor": 2
}
